{
 "cells": [
  {
   "cell_type": "markdown",
   "id": "a01abcb5",
   "metadata": {},
   "source": [
    "For this assignment, we will be working with the US Health Insurance Dataset from Kaggle.\n",
    "\n",
    "We have been asked to use our hypothesis testing skills to answer the following questions:\n",
    "\n",
    "- Q1. Do smokers have higher insurance charges than non-smokers?\n",
    "- Q2. Are men more likely to smoke than women?\n",
    "- Q3. Do different regions have different charges, on average?\n",
    "\n",
    "\n",
    "\n",
    "For each question, make sure to:\n",
    "\n",
    "1. State your Null Hypothesis and Alternative Hypothesis\n",
    "2. Select the correct test according to the data type and number of samples\n",
    "3. Test the assumptions of your selected test.\n",
    "4. Execute the selected test, or the alternative test (if you do not meet the assumptions)\n",
    "5. Interpret your p-value and reject or fail to reject your null hypothesis \n",
    "6. Show a supporting visualization that helps display the result"
   ]
  },
  {
   "cell_type": "markdown",
   "id": "067330c5",
   "metadata": {},
   "source": [
    "# Imports"
   ]
  },
  {
   "cell_type": "code",
   "execution_count": 21,
   "id": "347d83bf",
   "metadata": {},
   "outputs": [],
   "source": [
    "import pandas as pd\n",
    "import numpy as np\n",
    "\n",
    "import matplotlib.pyplot as plt\n",
    "import seaborn as sns\n",
    "\n",
    "from scipy import stats\n",
    "import scipy\n",
    "from statsmodels.stats.multicomp import pairwise_tukeyhsd"
   ]
  },
  {
   "cell_type": "markdown",
   "id": "b42e5357",
   "metadata": {},
   "source": [
    "# Load the Data"
   ]
  },
  {
   "cell_type": "code",
   "execution_count": 2,
   "id": "35528216",
   "metadata": {},
   "outputs": [
    {
     "name": "stdout",
     "output_type": "stream",
     "text": [
      "<class 'pandas.core.frame.DataFrame'>\n",
      "RangeIndex: 1338 entries, 0 to 1337\n",
      "Data columns (total 7 columns):\n",
      " #   Column    Non-Null Count  Dtype  \n",
      "---  ------    --------------  -----  \n",
      " 0   age       1338 non-null   int64  \n",
      " 1   sex       1338 non-null   object \n",
      " 2   bmi       1338 non-null   float64\n",
      " 3   children  1338 non-null   int64  \n",
      " 4   smoker    1338 non-null   object \n",
      " 5   region    1338 non-null   object \n",
      " 6   charges   1338 non-null   float64\n",
      "dtypes: float64(2), int64(2), object(3)\n",
      "memory usage: 73.3+ KB\n"
     ]
    },
    {
     "data": {
      "text/html": [
       "<div>\n",
       "<style scoped>\n",
       "    .dataframe tbody tr th:only-of-type {\n",
       "        vertical-align: middle;\n",
       "    }\n",
       "\n",
       "    .dataframe tbody tr th {\n",
       "        vertical-align: top;\n",
       "    }\n",
       "\n",
       "    .dataframe thead th {\n",
       "        text-align: right;\n",
       "    }\n",
       "</style>\n",
       "<table border=\"1\" class=\"dataframe\">\n",
       "  <thead>\n",
       "    <tr style=\"text-align: right;\">\n",
       "      <th></th>\n",
       "      <th>age</th>\n",
       "      <th>sex</th>\n",
       "      <th>bmi</th>\n",
       "      <th>children</th>\n",
       "      <th>smoker</th>\n",
       "      <th>region</th>\n",
       "      <th>charges</th>\n",
       "    </tr>\n",
       "  </thead>\n",
       "  <tbody>\n",
       "    <tr>\n",
       "      <th>0</th>\n",
       "      <td>19</td>\n",
       "      <td>female</td>\n",
       "      <td>27.900</td>\n",
       "      <td>0</td>\n",
       "      <td>yes</td>\n",
       "      <td>southwest</td>\n",
       "      <td>16884.92400</td>\n",
       "    </tr>\n",
       "    <tr>\n",
       "      <th>1</th>\n",
       "      <td>18</td>\n",
       "      <td>male</td>\n",
       "      <td>33.770</td>\n",
       "      <td>1</td>\n",
       "      <td>no</td>\n",
       "      <td>southeast</td>\n",
       "      <td>1725.55230</td>\n",
       "    </tr>\n",
       "    <tr>\n",
       "      <th>2</th>\n",
       "      <td>28</td>\n",
       "      <td>male</td>\n",
       "      <td>33.000</td>\n",
       "      <td>3</td>\n",
       "      <td>no</td>\n",
       "      <td>southeast</td>\n",
       "      <td>4449.46200</td>\n",
       "    </tr>\n",
       "    <tr>\n",
       "      <th>3</th>\n",
       "      <td>33</td>\n",
       "      <td>male</td>\n",
       "      <td>22.705</td>\n",
       "      <td>0</td>\n",
       "      <td>no</td>\n",
       "      <td>northwest</td>\n",
       "      <td>21984.47061</td>\n",
       "    </tr>\n",
       "    <tr>\n",
       "      <th>4</th>\n",
       "      <td>32</td>\n",
       "      <td>male</td>\n",
       "      <td>28.880</td>\n",
       "      <td>0</td>\n",
       "      <td>no</td>\n",
       "      <td>northwest</td>\n",
       "      <td>3866.85520</td>\n",
       "    </tr>\n",
       "  </tbody>\n",
       "</table>\n",
       "</div>"
      ],
      "text/plain": [
       "   age     sex     bmi  children smoker     region      charges\n",
       "0   19  female  27.900         0    yes  southwest  16884.92400\n",
       "1   18    male  33.770         1     no  southeast   1725.55230\n",
       "2   28    male  33.000         3     no  southeast   4449.46200\n",
       "3   33    male  22.705         0     no  northwest  21984.47061\n",
       "4   32    male  28.880         0     no  northwest   3866.85520"
      ]
     },
     "execution_count": 2,
     "metadata": {},
     "output_type": "execute_result"
    }
   ],
   "source": [
    "df = pd.read_csv('Data/insurance - insurance.csv')\n",
    "df.info()\n",
    "df.head()"
   ]
  },
  {
   "cell_type": "markdown",
   "id": "89ac5a39",
   "metadata": {},
   "source": [
    "# Q1: Do smokers have higher insurance charges than non-smokers?"
   ]
  },
  {
   "cell_type": "markdown",
   "id": "274bcb18",
   "metadata": {},
   "source": [
    "## State the Null and Alternative Hypothesis\n",
    "\n",
    "- Null Hypothesis: There is no significant difference in insurance charges between smokers and non-smokers.\n",
    "- Alternative Hypothesis: There is a significant difference in insurance charges for smokers and non-smokers."
   ]
  },
  {
   "cell_type": "markdown",
   "id": "65e95ce2",
   "metadata": {},
   "source": [
    "## Determining the Correct Test\n",
    "\n",
    "- The data is numeric.\n",
    "- There are 2 groups: smokers and non-smokers\n",
    "- Which test to perform? 2 sample T-Test"
   ]
  },
  {
   "cell_type": "markdown",
   "id": "57649dd0",
   "metadata": {},
   "source": [
    "## Visualize and Separate Features for Hypothesis\n",
    "\n",
    "- The target column is 'charges'\n",
    "- The column that determines the group is 'smoker'"
   ]
  },
  {
   "cell_type": "code",
   "execution_count": 3,
   "id": "7e5573e1",
   "metadata": {},
   "outputs": [
    {
     "data": {
      "text/plain": [
       "no     1064\n",
       "yes     274\n",
       "Name: smoker, dtype: int64"
      ]
     },
     "execution_count": 3,
     "metadata": {},
     "output_type": "execute_result"
    }
   ],
   "source": [
    "# checking the col for smokers\n",
    "df['smoker'].value_counts()"
   ]
  },
  {
   "cell_type": "code",
   "execution_count": 4,
   "id": "c75b6809",
   "metadata": {},
   "outputs": [],
   "source": [
    "# Filtering out those who smoke and don't\n",
    "smoker_df = df.loc[df['smoker']== 'yes'].copy()\n",
    "non_smoker_df = df.loc[df['smoker']== 'no'].copy()"
   ]
  },
  {
   "cell_type": "code",
   "execution_count": 5,
   "id": "56195037",
   "metadata": {},
   "outputs": [],
   "source": [
    "# define feature of interest\n",
    "smoker = smoker_df['charges']\n",
    "non_smoker = non_smoker_df['charges']"
   ]
  },
  {
   "cell_type": "markdown",
   "id": "bef462b6",
   "metadata": {},
   "source": [
    "## Check for and Remove Outliers"
   ]
  },
  {
   "cell_type": "code",
   "execution_count": 6,
   "id": "745a3b4f",
   "metadata": {},
   "outputs": [
    {
     "data": {
      "text/plain": [
       "0"
      ]
     },
     "execution_count": 6,
     "metadata": {},
     "output_type": "execute_result"
    }
   ],
   "source": [
    "# Check for outliers in charges for smokers\n",
    "zscores= stats.zscore(smoker)\n",
    "outliers = abs(zscores)>3\n",
    "np.sum(outliers)"
   ]
  },
  {
   "cell_type": "code",
   "execution_count": 7,
   "id": "2adcfa39",
   "metadata": {},
   "outputs": [
    {
     "data": {
      "text/plain": [
       "24"
      ]
     },
     "execution_count": 7,
     "metadata": {},
     "output_type": "execute_result"
    }
   ],
   "source": [
    "# Check for outliers in charges for non-smokers\n",
    "zscores= stats.zscore(non_smoker)\n",
    "outliers = abs(zscores)>3\n",
    "np.sum(outliers)"
   ]
  },
  {
   "cell_type": "markdown",
   "id": "6d8af4b2",
   "metadata": {},
   "source": [
    "## Check for Normality\n",
    "\n",
    "Since the sample size being tested is larger than 20, I can proceed with the tests and assume normality to satisfy this test."
   ]
  },
  {
   "cell_type": "markdown",
   "id": "3e26f3bd",
   "metadata": {},
   "source": [
    "## Check for Equal Variance"
   ]
  },
  {
   "cell_type": "code",
   "execution_count": 8,
   "id": "62954a2b",
   "metadata": {},
   "outputs": [
    {
     "name": "stdout",
     "output_type": "stream",
     "text": [
      "LeveneResult(statistic=332.6135162726081, pvalue=1.5593284881803726e-66)\n"
     ]
    }
   ],
   "source": [
    "# Test for equal variance\n",
    "result = stats.levene(smoker, non_smoker)\n",
    "print(result)"
   ]
  },
  {
   "cell_type": "code",
   "execution_count": 9,
   "id": "1133aff2",
   "metadata": {},
   "outputs": [
    {
     "name": "stdout",
     "output_type": "stream",
     "text": [
      "The groups do NOT have equal variance.\n"
     ]
    }
   ],
   "source": [
    "# if-else to help interpret the p-value\n",
    "if result.pvalue < .05:\n",
    "    print(f\"The groups do NOT have equal variance.\")\n",
    "else:\n",
    "    print(f\"The groups DO have equal variance.\")"
   ]
  },
  {
   "cell_type": "markdown",
   "id": "2a881a2d",
   "metadata": {},
   "source": [
    "Even though the 2 groups do not have equal variance, I can still continue with the final hypothesis test as long as I set equal_var=False."
   ]
  },
  {
   "cell_type": "markdown",
   "id": "eb7c613e",
   "metadata": {},
   "source": [
    "## Final Hypothesis Test"
   ]
  },
  {
   "cell_type": "code",
   "execution_count": 10,
   "id": "6ad18cb2",
   "metadata": {},
   "outputs": [
    {
     "name": "stdout",
     "output_type": "stream",
     "text": [
      "Ttest_indResult(statistic=32.751887766341824, pvalue=5.88946444671698e-103)\n"
     ]
    },
    {
     "data": {
      "text/plain": [
       "True"
      ]
     },
     "execution_count": 10,
     "metadata": {},
     "output_type": "execute_result"
    }
   ],
   "source": [
    "# run final hypothess test\n",
    "result = stats.ttest_ind(smoker, non_smoker, equal_var=False)\n",
    "print(result)\n",
    "result.pvalue  < .05"
   ]
  },
  {
   "cell_type": "code",
   "execution_count": 11,
   "id": "213ddf0c",
   "metadata": {},
   "outputs": [
    {
     "name": "stdout",
     "output_type": "stream",
     "text": [
      "The mean insurance charges for smokers is 32050.23\n",
      "The mean insurance charges for non-smokers is 8434.27\n"
     ]
    }
   ],
   "source": [
    "# show the mean for each group\n",
    "print(f'The mean insurance charges for smokers is {smoker.mean().round(2)}')\n",
    "print(f'The mean insurance charges for non-smokers is {non_smoker.mean().round(2)}')"
   ]
  },
  {
   "cell_type": "markdown",
   "id": "164ec82b",
   "metadata": {},
   "source": [
    "## FInal Conclusion\n",
    "\n",
    "- The p-value is < 0.05 for the final test, so I reject the null hypothesis and support the alternative hypothesis that smokers have higher insurance charges than non-smokers."
   ]
  },
  {
   "cell_type": "markdown",
   "id": "3f5e4cf8",
   "metadata": {},
   "source": [
    "# Q2. Are men more likely to smoke than women?\n"
   ]
  },
  {
   "cell_type": "markdown",
   "id": "7fc2372d",
   "metadata": {},
   "source": [
    "## State the Null and Alternative Hypothesis\n",
    "\n",
    "- Null Hypothesis: There is no significant difference between sex and whether not they smoke.\n",
    "- Alternative Hypothesis: There is a significant difference in the likelihood of men and women smoking."
   ]
  },
  {
   "cell_type": "markdown",
   "id": "5935986c",
   "metadata": {},
   "source": [
    "## Determining the Correct Test\n",
    "\n",
    "- The data is categorical.\n",
    "- There are 2 groups: men and women\n",
    "- Which test to perform? Chi-square"
   ]
  },
  {
   "cell_type": "markdown",
   "id": "cbc2f189",
   "metadata": {},
   "source": [
    "## Visualize and Separate Features for Hypothesis\n",
    "\n",
    "- The target column is 'smoker'\n",
    "- The column that determines the group is 'sex'"
   ]
  },
  {
   "cell_type": "code",
   "execution_count": 12,
   "id": "beb67bea",
   "metadata": {},
   "outputs": [
    {
     "data": {
      "image/png": "[encoded data removed]",
      "text/plain": [
       "<Figure size 640x480 with 1 Axes>"
      ]
     },
     "metadata": {},
     "output_type": "display_data"
    }
   ],
   "source": [
    "# visualize smoker by sex\n",
    "ax = sns.countplot(data=df, x='sex',hue='smoker',)\n",
    "ax.set_title(\"Smokers by Sex\");"
   ]
  },
  {
   "cell_type": "markdown",
   "id": "fe81f384",
   "metadata": {},
   "source": [
    "## Getting the Contingency Table with pd.crosstab"
   ]
  },
  {
   "cell_type": "code",
   "execution_count": 13,
   "id": "7b1e4263",
   "metadata": {},
   "outputs": [
    {
     "data": {
      "text/html": [
       "<div>\n",
       "<style scoped>\n",
       "    .dataframe tbody tr th:only-of-type {\n",
       "        vertical-align: middle;\n",
       "    }\n",
       "\n",
       "    .dataframe tbody tr th {\n",
       "        vertical-align: top;\n",
       "    }\n",
       "\n",
       "    .dataframe thead th {\n",
       "        text-align: right;\n",
       "    }\n",
       "</style>\n",
       "<table border=\"1\" class=\"dataframe\">\n",
       "  <thead>\n",
       "    <tr style=\"text-align: right;\">\n",
       "      <th>smoker</th>\n",
       "      <th>no</th>\n",
       "      <th>yes</th>\n",
       "    </tr>\n",
       "    <tr>\n",
       "      <th>sex</th>\n",
       "      <th></th>\n",
       "      <th></th>\n",
       "    </tr>\n",
       "  </thead>\n",
       "  <tbody>\n",
       "    <tr>\n",
       "      <th>female</th>\n",
       "      <td>547</td>\n",
       "      <td>115</td>\n",
       "    </tr>\n",
       "    <tr>\n",
       "      <th>male</th>\n",
       "      <td>517</td>\n",
       "      <td>159</td>\n",
       "    </tr>\n",
       "  </tbody>\n",
       "</table>\n",
       "</div>"
      ],
      "text/plain": [
       "smoker   no  yes\n",
       "sex             \n",
       "female  547  115\n",
       "male    517  159"
      ]
     },
     "execution_count": 13,
     "metadata": {},
     "output_type": "execute_result"
    }
   ],
   "source": [
    "# calculate the contingency table with pd.cross-tab\n",
    "table = pd.crosstab(df['sex'], df['smoker'])\n",
    "table"
   ]
  },
  {
   "cell_type": "markdown",
   "id": "9f2c5ba3",
   "metadata": {},
   "source": [
    "## Final Hypothesis Test"
   ]
  },
  {
   "cell_type": "code",
   "execution_count": 14,
   "id": "9a712dcd",
   "metadata": {},
   "outputs": [],
   "source": [
    "# Run the Test and Save the Output\n",
    "result = stats.chi2_contingency(table)\n",
    "chi2, p, deg_free, expected_vals = result"
   ]
  },
  {
   "cell_type": "code",
   "execution_count": 15,
   "id": "98f759b7",
   "metadata": {},
   "outputs": [
    {
     "name": "stdout",
     "output_type": "stream",
     "text": [
      "0.006548143503580696\n"
     ]
    },
    {
     "data": {
      "text/plain": [
       "True"
      ]
     },
     "execution_count": 15,
     "metadata": {},
     "output_type": "execute_result"
    }
   ],
   "source": [
    "# What is the p-value?\n",
    "print(p)\n",
    "p<.05"
   ]
  },
  {
   "cell_type": "markdown",
   "id": "e64fb841",
   "metadata": {},
   "source": [
    "## Final Conclusion\n",
    "\n",
    "- Since the p-value < 0.05, I can reject the null hypothesis that there is no relationship between sex and whether or not they smoke. This means that I can accept the alternative hypothesis and conclude that there is a relationship between sex and smoking, and that men are more likely to smoke than women."
   ]
  },
  {
   "cell_type": "markdown",
   "id": "ca3a9b9d",
   "metadata": {},
   "source": [
    "# Q3: Do different regions have different charges, on average?"
   ]
  },
  {
   "cell_type": "markdown",
   "id": "9fcf5de7",
   "metadata": {},
   "source": [
    "## State the Null and Alternative Hypothesis\n",
    "\n",
    "- Null Hypothesis: All regions have the same charges, on average.\n",
    "- Alternative Hypothesis: All regions have different charges, on average."
   ]
  },
  {
   "cell_type": "markdown",
   "id": "c2d37874",
   "metadata": {},
   "source": [
    "## Determining the Correct Test\n",
    "\n",
    "- The data is numeric.\n",
    "- There are more than 2 groups: various regions\n",
    "- Which test to perform? One-way ANOVA"
   ]
  },
  {
   "cell_type": "markdown",
   "id": "fbc28bf8",
   "metadata": {},
   "source": [
    "## Visualize and Separate Features for Hypothesis\n",
    "\n",
    "- The target column is 'charges'\n",
    "- The column that determines the group is 'region'"
   ]
  },
  {
   "cell_type": "markdown",
   "id": "97e5def2",
   "metadata": {},
   "source": [
    "## Separating the Groups"
   ]
  },
  {
   "cell_type": "code",
   "execution_count": 16,
   "id": "70973264",
   "metadata": {},
   "outputs": [
    {
     "data": {
      "text/plain": [
       "dict_keys(['southwest', 'southeast', 'northwest', 'northeast'])"
      ]
     },
     "execution_count": 16,
     "metadata": {},
     "output_type": "execute_result"
    }
   ],
   "source": [
    "## Create groups dictionary. There are only 3 groups, but this is even more helpful when there are many groups\n",
    "groups = {}\n",
    "## Loop through all unique categories\n",
    "for i in df['region'].unique():\n",
    "    ## Get series for group and rename\n",
    "    data = df.loc[df['region']==i,'charges'].copy()\n",
    "    \n",
    "    # save into the dictionary\n",
    "    groups[i] = data\n",
    "groups.keys()"
   ]
  },
  {
   "cell_type": "markdown",
   "id": "d60ac494",
   "metadata": {},
   "source": [
    "## Testing Assumptions"
   ]
  },
  {
   "cell_type": "code",
   "execution_count": 17,
   "id": "ac492960",
   "metadata": {},
   "outputs": [
    {
     "data": {
      "text/html": [
       "<div>\n",
       "<style scoped>\n",
       "    .dataframe tbody tr th:only-of-type {\n",
       "        vertical-align: middle;\n",
       "    }\n",
       "\n",
       "    .dataframe tbody tr th {\n",
       "        vertical-align: top;\n",
       "    }\n",
       "\n",
       "    .dataframe thead th {\n",
       "        text-align: right;\n",
       "    }\n",
       "</style>\n",
       "<table border=\"1\" class=\"dataframe\">\n",
       "  <thead>\n",
       "    <tr style=\"text-align: right;\">\n",
       "      <th></th>\n",
       "      <th>n</th>\n",
       "      <th>p</th>\n",
       "      <th>test stat</th>\n",
       "    </tr>\n",
       "  </thead>\n",
       "  <tbody>\n",
       "    <tr>\n",
       "      <th>southwest</th>\n",
       "      <td>325.0</td>\n",
       "      <td>6.125298e-23</td>\n",
       "      <td>102.294059</td>\n",
       "    </tr>\n",
       "    <tr>\n",
       "      <th>southeast</th>\n",
       "      <td>364.0</td>\n",
       "      <td>4.953297e-15</td>\n",
       "      <td>65.877446</td>\n",
       "    </tr>\n",
       "    <tr>\n",
       "      <th>northwest</th>\n",
       "      <td>325.0</td>\n",
       "      <td>5.184209e-24</td>\n",
       "      <td>107.232850</td>\n",
       "    </tr>\n",
       "    <tr>\n",
       "      <th>northeast</th>\n",
       "      <td>324.0</td>\n",
       "      <td>1.455431e-19</td>\n",
       "      <td>86.747629</td>\n",
       "    </tr>\n",
       "  </tbody>\n",
       "</table>\n",
       "</div>"
      ],
      "text/plain": [
       "               n             p   test stat\n",
       "southwest  325.0  6.125298e-23  102.294059\n",
       "southeast  364.0  4.953297e-15   65.877446\n",
       "northwest  325.0  5.184209e-24  107.232850\n",
       "northeast  324.0  1.455431e-19   86.747629"
      ]
     },
     "execution_count": 17,
     "metadata": {},
     "output_type": "execute_result"
    }
   ],
   "source": [
    "## Running normal test on each group and confirming there are >20 in each group\n",
    "norm_results = {}\n",
    "for i, data in groups.items():\n",
    "    stat, p = stats.normaltest(data)\n",
    "    ## save the p val, test statistic, and the size of the group\n",
    "    norm_results[i] = {'n': len(data),\n",
    "                             'p':p,\n",
    "                             'test stat':stat,}\n",
    "## convert to a dataframe\n",
    "norm_results_df = pd.DataFrame(norm_results).T\n",
    "norm_results_df"
   ]
  },
  {
   "cell_type": "code",
   "execution_count": 18,
   "id": "d016b946",
   "metadata": {},
   "outputs": [
    {
     "data": {
      "text/html": [
       "<div>\n",
       "<style scoped>\n",
       "    .dataframe tbody tr th:only-of-type {\n",
       "        vertical-align: middle;\n",
       "    }\n",
       "\n",
       "    .dataframe tbody tr th {\n",
       "        vertical-align: top;\n",
       "    }\n",
       "\n",
       "    .dataframe thead th {\n",
       "        text-align: right;\n",
       "    }\n",
       "</style>\n",
       "<table border=\"1\" class=\"dataframe\">\n",
       "  <thead>\n",
       "    <tr style=\"text-align: right;\">\n",
       "      <th></th>\n",
       "      <th>n</th>\n",
       "      <th>p</th>\n",
       "      <th>test stat</th>\n",
       "      <th>sig</th>\n",
       "    </tr>\n",
       "  </thead>\n",
       "  <tbody>\n",
       "    <tr>\n",
       "      <th>southwest</th>\n",
       "      <td>325.0</td>\n",
       "      <td>6.125298e-23</td>\n",
       "      <td>102.294059</td>\n",
       "      <td>True</td>\n",
       "    </tr>\n",
       "    <tr>\n",
       "      <th>southeast</th>\n",
       "      <td>364.0</td>\n",
       "      <td>4.953297e-15</td>\n",
       "      <td>65.877446</td>\n",
       "      <td>True</td>\n",
       "    </tr>\n",
       "    <tr>\n",
       "      <th>northwest</th>\n",
       "      <td>325.0</td>\n",
       "      <td>5.184209e-24</td>\n",
       "      <td>107.232850</td>\n",
       "      <td>True</td>\n",
       "    </tr>\n",
       "    <tr>\n",
       "      <th>northeast</th>\n",
       "      <td>324.0</td>\n",
       "      <td>1.455431e-19</td>\n",
       "      <td>86.747629</td>\n",
       "      <td>True</td>\n",
       "    </tr>\n",
       "  </tbody>\n",
       "</table>\n",
       "</div>"
      ],
      "text/plain": [
       "               n             p   test stat   sig\n",
       "southwest  325.0  6.125298e-23  102.294059  True\n",
       "southeast  364.0  4.953297e-15   65.877446  True\n",
       "northwest  325.0  5.184209e-24  107.232850  True\n",
       "northeast  324.0  1.455431e-19   86.747629  True"
      ]
     },
     "execution_count": 18,
     "metadata": {},
     "output_type": "execute_result"
    }
   ],
   "source": [
    "# checking sig with pandas \n",
    "norm_results_df['sig'] = norm_results_df['p'] < .05 \n",
    "norm_results_df"
   ]
  },
  {
   "cell_type": "markdown",
   "id": "fc03a63c",
   "metadata": {},
   "source": [
    "Each region does not have a normal distribution. But because each group has more than 15 samples for 4 groups, I can pass the normality test."
   ]
  },
  {
   "cell_type": "markdown",
   "id": "e60fd32a",
   "metadata": {},
   "source": [
    "## Testing Assumption of Equal Variance"
   ]
  },
  {
   "cell_type": "code",
   "execution_count": 19,
   "id": "cf7e781b",
   "metadata": {},
   "outputs": [
    {
     "data": {
      "text/plain": [
       "LeveneResult(statistic=5.559966758410606, pvalue=0.0008610590250786703)"
      ]
     },
     "execution_count": 19,
     "metadata": {},
     "output_type": "execute_result"
    }
   ],
   "source": [
    "# with the * operator \n",
    "stats.levene(*groups.values())"
   ]
  },
  {
   "cell_type": "markdown",
   "id": "c92adf16",
   "metadata": {},
   "source": [
    "The p-value < 0.05, so I can reject the null hypothesis and that there is not equal variance between the groups. Because of this, I will need to use an non-parametric equivalent test. In this case, it will be Kruskal-Wallis test."
   ]
  },
  {
   "cell_type": "markdown",
   "id": "7eb32ebe",
   "metadata": {},
   "source": [
    "## Final One-Way ANOVA Test (alternative)"
   ]
  },
  {
   "cell_type": "code",
   "execution_count": 20,
   "id": "235ae0df",
   "metadata": {},
   "outputs": [
    {
     "data": {
      "text/plain": [
       "KruskalResult(statistic=4.734181215658743, pvalue=0.19232908072121002)"
      ]
     },
     "execution_count": 20,
     "metadata": {},
     "output_type": "execute_result"
    }
   ],
   "source": [
    "# perform the correct hypothesis test\n",
    "# note again the use of the * operator for convenience\n",
    "result = stats.kruskal( *groups.values())\n",
    "result"
   ]
  },
  {
   "cell_type": "markdown",
   "id": "ee35c7e1",
   "metadata": {},
   "source": [
    "The p-value is greater than 0.05, but it is currently unclear which regions have a significant difference, so I will need to use Tukey's Pairwise in order to find which regions significantly differ in charges."
   ]
  },
  {
   "cell_type": "markdown",
   "id": "efa6271b",
   "metadata": {},
   "source": [
    "## Tukey's Pairwise Multiple Comparisons Test"
   ]
  },
  {
   "cell_type": "code",
   "execution_count": 23,
   "id": "fec6a953",
   "metadata": {},
   "outputs": [],
   "source": [
    "# save the values as charges and the labels to region\n",
    "values = df['charges']\n",
    "labels = df['region']"
   ]
  },
  {
   "cell_type": "code",
   "execution_count": 24,
   "id": "87f2ae23",
   "metadata": {},
   "outputs": [
    {
     "data": {
      "text/html": [
       "<table class=\"simpletable\">\n",
       "<caption>Multiple Comparison of Means - Tukey HSD, FWER=0.05</caption>\n",
       "<tr>\n",
       "   <th>group1</th>    <th>group2</th>    <th>meandiff</th>   <th>p-adj</th>    <th>lower</th>     <th>upper</th>   <th>reject</th>\n",
       "</tr>\n",
       "<tr>\n",
       "  <td>northeast</td> <td>northwest</td>  <td>-988.8091</td> <td>0.7245</td> <td>-3428.9343</td> <td>1451.3161</td>  <td>False</td>\n",
       "</tr>\n",
       "<tr>\n",
       "  <td>northeast</td> <td>southeast</td>  <td>1329.0269</td> <td>0.4745</td> <td>-1044.9417</td> <td>3702.9955</td>  <td>False</td>\n",
       "</tr>\n",
       "<tr>\n",
       "  <td>northeast</td> <td>southwest</td> <td>-1059.4471</td> <td>0.6792</td> <td>-3499.5723</td> <td>1380.6781</td>  <td>False</td>\n",
       "</tr>\n",
       "<tr>\n",
       "  <td>northwest</td> <td>southeast</td>  <td>2317.8361</td> <td>0.0583</td>  <td>-54.1994</td>  <td>4689.8716</td>  <td>False</td>\n",
       "</tr>\n",
       "<tr>\n",
       "  <td>northwest</td> <td>southwest</td>   <td>-70.638</td>  <td>0.9999</td> <td>-2508.8826</td> <td>2367.6066</td>  <td>False</td>\n",
       "</tr>\n",
       "<tr>\n",
       "  <td>southeast</td> <td>southwest</td> <td>-2388.4741</td> <td>0.0477</td> <td>-4760.5096</td> <td>-16.4386</td>   <td>True</td> \n",
       "</tr>\n",
       "</table>"
      ],
      "text/plain": [
       "<class 'statsmodels.iolib.table.SimpleTable'>"
      ]
     },
     "execution_count": 24,
     "metadata": {},
     "output_type": "execute_result"
    }
   ],
   "source": [
    "# perform tukey's multiple comparison test and display the summary\n",
    "tukeys_results = pairwise_tukeyhsd(values,labels)\n",
    "tukeys_results.summary()"
   ]
  },
  {
   "cell_type": "markdown",
   "id": "211d36e7",
   "metadata": {},
   "source": [
    "From the results above, there is one significant difference in charges between regions. There was a significant difference between the southwest and southeast regions for insurance charges. There were no other differences between any of the other regions.\n",
    "\n",
    "In conclusion, only 2 regions were significantly different in charges, but neither significantly differed from the other regions of the group."
   ]
  },
  {
   "cell_type": "code",
   "execution_count": 25,
   "id": "a9369d94",
   "metadata": {},
   "outputs": [
    {
     "data": {
      "image/png": "[encoded data removed]",
      "text/plain": [
       "<Figure size 640x480 with 1 Axes>"
      ]
     },
     "metadata": {},
     "output_type": "display_data"
    }
   ],
   "source": [
    "# visual showing charge differences between regions\n",
    "sns.barplot(data=df, x='region',y='charges');"
   ]
  },
  {
   "cell_type": "code",
   "execution_count": null,
   "id": "4874f609",
   "metadata": {},
   "outputs": [],
   "source": []
  }
 ],
 "metadata": {
  "kernelspec": {
   "display_name": "Python (dojo-env)",
   "language": "python",
   "name": "dojo-env"
  },
  "language_info": {
   "codemirror_mode": {
    "name": "ipython",
    "version": 3
   },
   "file_extension": ".py",
   "mimetype": "text/x-python",
   "name": "python",
   "nbconvert_exporter": "python",
   "pygments_lexer": "ipython3",
   "version": "3.9.15"
  },
  "toc": {
   "base_numbering": 1,
   "nav_menu": {},
   "number_sections": true,
   "sideBar": true,
   "skip_h1_title": false,
   "title_cell": "Table of Contents",
   "title_sidebar": "Contents",
   "toc_cell": false,
   "toc_position": {},
   "toc_section_display": true,
   "toc_window_display": false
  }
 },
 "nbformat": 4,
 "nbformat_minor": 5
}
